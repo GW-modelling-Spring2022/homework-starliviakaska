{
 "cells": [
  {
   "cell_type": "code",
   "execution_count": null,
   "metadata": {},
   "outputs": [],
   "source": [
    "ensembles = [[1,1,1,1,3,3,1],\n",
    "[1,2,2,1,1,2,2], \n",
    "[2,1,3,3,2,1,3],\n",
    "[2,2,2,2,3,3,3],\n",
    "[2,1,3,3,1,2,2],\n",
    "[2,2,3,3,1,1,2],\n",
    "[2,1,1,2,2,2,3],\n",
    "[2,2,3,3,2,1,1],\n",
    "[2,1,2,3,2,2,1],\n",
    "[3,3,3,3,3,3,3]]"
   ]
  }
 ],
 "metadata": {
  "language_info": {
   "name": "python"
  },
  "orig_nbformat": 4
 },
 "nbformat": 4,
 "nbformat_minor": 2
}
